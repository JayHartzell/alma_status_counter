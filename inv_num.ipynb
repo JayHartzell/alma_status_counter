{
 "cells": [
  {
   "cell_type": "code",
   "execution_count": null,
   "metadata": {},
   "outputs": [],
   "source": [
    "import os\n",
    "import requests"
   ]
  },
  {
   "cell_type": "code",
   "execution_count": null,
   "metadata": {},
   "outputs": [],
   "source": [
    "%load_ext dotenv\n",
    "%dotenv keys.env\n",
    "\n",
    "api_key = os.getenv('bibKey')"
   ]
  },
  {
   "cell_type": "code",
   "execution_count": null,
   "metadata": {},
   "outputs": [],
   "source": [
    "\"\"\" Enter the MMS Id of the bib you want to query, and then the \n",
    "holding ids of the holdings you want to query, separated by commas and enclosed by single quotes.\"\"\"\n",
    "\n",
    "mms_id = ''                  \n",
    "holding_ids = ['', '', '']      "
   ]
  },
  {
   "cell_type": "code",
   "execution_count": null,
   "metadata": {},
   "outputs": [],
   "source": [
    "def build_db(url):\n",
    "   \n",
    "    items = []\n",
    "     \n",
    "    total_record_count = float('inf')  # Initialize with a large value\n",
    "\n",
    "    headers = {\n",
    "        'apiKey': api_key, \n",
    "        'format': 'json',\n",
    "        'limit' : 100,\n",
    "        'offset' : 0\n",
    "    }\n",
    "\n",
    "    while headers['offset'] < total_record_count:     \n",
    "            try:\n",
    "                response = requests.get(url, params=headers)\n",
    "            \n",
    "                item_object = response.json()\n",
    "                \n",
    "                items.append(item_object)\n",
    "\n",
    "                # Increment the offset by the 'limit' for the next page\n",
    "                headers['offset'] += 100\n",
    "\n",
    "                # Update total_record_count if it's not already set\n",
    "                if 'total_record_count' in item_object and total_record_count == float('inf'):\n",
    "                    total_record_count = item_object['total_record_count']\n",
    "\n",
    "                # If we have reached the total count, exit the loop\n",
    "                if headers['offset'] >= total_record_count:\n",
    "                    break\n",
    "            except Exception as e:\n",
    "                # Handle other exceptions (e.g., network issues)\n",
    "                print(f'{e} for {url}')\n",
    "                break  # Exit the loop on exception\n",
    "\n",
    "    return items"
   ]
  },
  {
   "cell_type": "code",
   "execution_count": null,
   "metadata": {},
   "outputs": [],
   "source": [
    "# Creates the URL endpoints needed to make citation requests.\n",
    "def build_url(holding_ids, mms_id): \n",
    "    a = []\n",
    "    for i in holding_ids:\n",
    "        holding_id = i\n",
    "\n",
    "        url = f\"https://api-na.hosted.exlibrisgroup.com/almaws/v1/bibs/{mms_id}/holdings/{holding_id}/items\"\n",
    "\n",
    "        a.append(url)\n",
    "\n",
    "    return a"
   ]
  },
  {
   "cell_type": "code",
   "execution_count": null,
   "metadata": {},
   "outputs": [],
   "source": [
    "def unpack_values(response_list):\n",
    "    values = []\n",
    "    for i in response_list:\n",
    "        for j in i['item']:\n",
    "            values.append(j)\n",
    "                       \n",
    "    return values"
   ]
  },
  {
   "cell_type": "code",
   "execution_count": null,
   "metadata": {},
   "outputs": [],
   "source": [
    "def get_counts(unpacked): \n",
    "        \n",
    "    temp_location_count = len([i for i in unpacked if i['holding_data']['in_temp_location'] == True])\n",
    "    base_status_0_count = len([i for i in unpacked if i['item_data']['base_status']['value'] == '0'])\n",
    "    base_status_1_count = len([i for i in unpacked if i['item_data']['base_status']['value'] == '1'])\n",
    "    holding_id = unpacked[0]['holding_data']['holding_id']\n",
    "    location = unpacked[0]['item_data']['location']['desc']\n",
    "    material_type = unpacked[0]['item_data']['physical_material_type']['value']\n",
    "    base_status_0_process_types = {}\n",
    "\n",
    "    for i in unpacked:\n",
    "        if i['item_data']['base_status']['value'] == '0':\n",
    "            process_type = i['item_data']['process_type']['value']\n",
    "            if process_type not in base_status_0_process_types:\n",
    "                base_status_0_process_types[process_type] = 1\n",
    "            else:\n",
    "                process_count = base_status_0_process_types.get(process_type, 0)\n",
    "                process_count += 1\n",
    "                base_status_0_process_types[process_type] = process_count\n",
    "\n",
    "  \n",
    "    a =  {  'holding_id': holding_id,\n",
    "                'location' : location,\n",
    "                'items_in_place': base_status_1_count,\n",
    "                'items_not_in_place': base_status_0_count,\n",
    "                'items_nip_process': base_status_0_process_types,\n",
    "                'temp_location_count': temp_location_count, \n",
    "                'material_type': material_type\n",
    "                }\n",
    "    \n",
    "    \n",
    "    print(f'Inventory counts for Holding ID: {a[\"holding_id\"]} in {a[\"location\"]} with material type: {a[\"material_type\"]}') \n",
    "    print(f'Available for checkout: {a[\"items_in_place\"] - a[\"temp_location_count\"]}')\n",
    "    print(f'In temp location: {a[\"temp_location_count\"]}')\n",
    "    print(f'Items not in place: {a[\"items_not_in_place\"]}, with process types: {a[\"items_nip_process\"]}')\n",
    "    print('\\n')\n",
    "    \n",
    "    "
   ]
  },
  {
   "cell_type": "code",
   "execution_count": null,
   "metadata": {},
   "outputs": [],
   "source": [
    "urls = build_url(holding_ids, mms_id) "
   ]
  },
  {
   "cell_type": "code",
   "execution_count": null,
   "metadata": {},
   "outputs": [],
   "source": [
    "for url in urls:\n",
    "    item_responses = build_db(url)\n",
    "    unpacked = unpack_values(item_responses)\n",
    "    get_counts(unpacked)\n"
   ]
  }
 ],
 "metadata": {
  "kernelspec": {
   "display_name": "Python 3",
   "language": "python",
   "name": "python3"
  },
  "language_info": {
   "codemirror_mode": {
    "name": "ipython",
    "version": 3
   },
   "file_extension": ".py",
   "mimetype": "text/x-python",
   "name": "python",
   "nbconvert_exporter": "python",
   "pygments_lexer": "ipython3",
   "version": "3.11.4"
  },
  "orig_nbformat": 4
 },
 "nbformat": 4,
 "nbformat_minor": 2
}
