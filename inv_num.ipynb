{
 "cells": [
  {
   "cell_type": "code",
   "execution_count": null,
   "metadata": {},
   "outputs": [],
   "source": [
    "import asyncio\n",
    "import aiohttp\n",
    "from asyncio_throttle import Throttler\n",
    "import os\n",
    "import dotenv\n"
   ]
  },
  {
   "cell_type": "code",
   "execution_count": null,
   "metadata": {},
   "outputs": [],
   "source": [
    "%load_ext dotenv\n",
    "%dotenv keys.env\n",
    "\n",
    "\n",
    "api_key = os.getenv('bibsKey')\n",
    "\n",
    "\n",
    "headers = {\n",
    "    \"Authorization\": f\"apikey {api_key}\",\n",
    "    \"Accept\": \"application/json\",\n",
    "}\n"
   ]
  },
  {
   "cell_type": "code",
   "execution_count": null,
   "metadata": {},
   "outputs": [],
   "source": [
    "mms_id = '991000022909705274'\n",
    "holding_ids = ['2249469840005274', '2231971640005274']"
   ]
  },
  {
   "cell_type": "code",
   "execution_count": null,
   "metadata": {},
   "outputs": [],
   "source": [
    "item_objects = []"
   ]
  },
  {
   "cell_type": "code",
   "execution_count": null,
   "metadata": {},
   "outputs": [],
   "source": [
    "async def gather_tasks(urls, headers=None):\n",
    "    \"\"\"Gather tasks for making calls to the Alma API.\"\"\"\n",
    "    throttler = Throttler(rate_limit=20)\n",
    "    #  Create a list of tasks\n",
    "    tasks = []\n",
    "    for url in urls:\n",
    "        task = asyncio.create_task(make_calls(url, headers=headers, throttler=throttler))\n",
    "        tasks.append(task)\n",
    "\n",
    "\n",
    "    # Wait for all of the tasks to finish\n",
    "    item_list = await asyncio.gather(*tasks)\n",
    "\n",
    "    return item_list\n"
   ]
  },
  {
   "cell_type": "code",
   "execution_count": null,
   "metadata": {},
   "outputs": [],
   "source": [
    "async def make_calls(url, headers=None, throttler=None):\n",
    "    \"\"\"Makes a GET call using the url passed in. The item object is parsed as JSON, \n",
    "    the inventory price is mapped to replacement cost, and the object is PUT back to Alma.\"\"\"\n",
    "    items = []\n",
    "    async with throttler:\n",
    "        try:\n",
    "            async with aiohttp.ClientSession() as session:\n",
    "                response = await session.get(url, headers=headers)\n",
    "\n",
    "                # pull item object\n",
    "                object = await response.json()\n",
    "                items.append(object)\n",
    "        except Exception as e:\n",
    "            print(f'{e} for {url}')\n",
    "\n",
    "\n",
    "    return items"
   ]
  },
  {
   "cell_type": "code",
   "execution_count": null,
   "metadata": {},
   "outputs": [],
   "source": [
    "# Creates the URL endpoints needed to make citation requests.\n",
    "def build_url(holding_ids, mms_id): \n",
    "    a = []\n",
    "    for i in holding_ids:\n",
    "        holding_id = i\n",
    "        mms_id = mms_id\n",
    "\n",
    "        url = f\"https://api-na.hosted.exlibrisgroup.com/almaws/v1/bibs/{mms_id}/holdings/{holding_id}/items\"\n",
    "\n",
    "        a.append(url)\n",
    "\n",
    "    return a"
   ]
  },
  {
   "cell_type": "code",
   "execution_count": null,
   "metadata": {},
   "outputs": [],
   "source": [
    "for item in item_responses[0]:\n",
    "    print(item['total_record_count'])"
   ]
  },
  {
   "cell_type": "code",
   "execution_count": 145,
   "metadata": {},
   "outputs": [],
   "source": [
    "def count_items_by_base_status(json_payload):\n",
    "  \"\"\"Counts the number of items in a JSON payload that have a base_status of 1 or 0, and provides the process_type for each item.\n",
    "\n",
    "  Args:\n",
    "    json_payload: A JSON payload.\n",
    "\n",
    "  Returns:\n",
    "    A dictionary containing the following keys:\n",
    "      * \"holding_id\": the holding record that contains the items.\n",
    "      * \"location\": the permanent physical location associated with that holding id.\n",
    "      * \"items_in_place\": A count of items with base status of 1 (in place).\n",
    "      * \"items_not_in_place\": A count of items with a base_status of 0 (not in place).\n",
    "      * \"items_nip_process\": A dictionary containing the process_type for each item with a base_status of 0.\n",
    "  \"\"\"\n",
    "\n",
    "  # Initialize the counts and process_type lists.\n",
    "  base_status_1_count = 0\n",
    "  base_status_0_count = 0\n",
    "  base_status_0_process_types = {}\n",
    "\n",
    "  # Iterate over the items in the JSON payload.\n",
    "  for i in json_payload:\n",
    "    x = 0\n",
    "    while x < i['total_record_count']:\n",
    "      for item in i['item']:\n",
    "\n",
    "        holding_id = item['holding_data']['holding_id']\n",
    "        location = item['item_data']['location']['desc']\n",
    "        base_status = item['item_data']['base_status']['value']\n",
    "        process_type = item['item_data']['process_type']['value']        \n",
    "\n",
    "        if base_status == '0':\n",
    "            if process_type not in base_status_0_process_types:\n",
    "              base_status_0_process_types[process_type] = 1\n",
    "              x += 1\n",
    "              base_status_0_count += 1\n",
    "            else:\n",
    "              process_count = base_status_0_process_types.get(process_type, 0)\n",
    "              process_count += 1\n",
    "              base_status_0_process_types[process_type] = process_count\n",
    "              x += 1\n",
    "              base_status_0_count += 1\n",
    "\n",
    "        elif base_status  == '1':\n",
    "            base_status_1_count += 1\n",
    "            x += 1\n",
    "\n",
    "  # Return a dictionary containing the base_status_0_count and base_status_0_process_types variables.\n",
    "  return {\n",
    "     'holding_id': holding_id,\n",
    "     'location' : location,\n",
    "    'items_in_place': base_status_1_count,\n",
    "    'items_not_in_place': base_status_0_count,\n",
    "    'items_nip_process': base_status_0_process_types\n",
    "  }"
   ]
  },
  {
   "cell_type": "code",
   "execution_count": null,
   "metadata": {},
   "outputs": [],
   "source": [
    "urls = build_url(holding_ids, mms_id) "
   ]
  },
  {
   "cell_type": "code",
   "execution_count": null,
   "metadata": {},
   "outputs": [],
   "source": [
    "item_responses = await gather_tasks(urls, headers=headers)"
   ]
  },
  {
   "cell_type": "code",
   "execution_count": 146,
   "metadata": {},
   "outputs": [
    {
     "name": "stdout",
     "output_type": "stream",
     "text": [
      "Inventory counts for Holding ID: 2249469840005274 in 7 Day Tech\n",
      "Items in place: 136\n",
      "Items not in place: 544\n",
      "For the items not in place, the process types of the remaining items are: {'MISSING': 68, 'LOAN': 340, 'LOST_LOAN': 136}\n",
      "\n",
      "\n",
      "Inventory counts for Holding ID: 2231971640005274 in OCN Lab Desk\n",
      "Items in place: 30\n",
      "Items not in place: 0\n",
      "For the items not in place, the process types of the remaining items are: {}\n",
      "\n",
      "\n"
     ]
    }
   ],
   "source": [
    "for response in item_responses:\n",
    "   a =  count_items_by_base_status(response)\n",
    "\n",
    "   print(f'Inventory counts for Holding ID: {a[\"holding_id\"]} in {a[\"location\"]}') \n",
    "   print(f'Items in place: {a[\"items_in_place\"]}')\n",
    "   print(f'Items not in place: {a[\"items_not_in_place\"]}')\n",
    "   print(f'For the items not in place, the process types of the remaining items are: {a[\"items_nip_process\"]}') \n",
    "   print('\\n')"
   ]
  }
 ],
 "metadata": {
  "kernelspec": {
   "display_name": "Python 3",
   "language": "python",
   "name": "python3"
  },
  "language_info": {
   "codemirror_mode": {
    "name": "ipython",
    "version": 3
   },
   "file_extension": ".py",
   "mimetype": "text/x-python",
   "name": "python",
   "nbconvert_exporter": "python",
   "pygments_lexer": "ipython3",
   "version": "3.11.3"
  },
  "orig_nbformat": 4
 },
 "nbformat": 4,
 "nbformat_minor": 2
}
